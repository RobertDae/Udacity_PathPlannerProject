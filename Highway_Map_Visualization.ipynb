{
 "cells": [
  {
   "cell_type": "markdown",
   "metadata": {},
   "source": [
    "# Highway Map Visualization"
   ]
  },
  {
   "cell_type": "markdown",
   "metadata": {},
   "source": [
    "### Read Data"
   ]
  },
  {
   "cell_type": "code",
   "execution_count": null,
   "metadata": {},
   "outputs": [],
   "source": [
    "import pandas as pd \n",
    "\n",
    "highway_map_file = \"data/highway_map.csv\"\n",
    "\n",
    "data = pd.read_csv(highway_map_file, sep=' ', header=None, names=('x', 'y', 's', 'dx', 'dy'))\n",
    "\n",
    "print(data.head())"
   ]
  },
  {
   "cell_type": "markdown",
   "metadata": {},
   "source": [
    "### Visualize Data"
   ]
  },
  {
   "cell_type": "code",
   "execution_count": null,
   "metadata": {},
   "outputs": [],
   "source": [
    "import matplotlib.pyplot as plt\n",
    "%matplotlib inline\n",
    "\n",
    "lane_width = 4\n",
    "\n",
    "# values for 's' coordinates formatted to fit the graph\n",
    "s_vals = [\"{:.2f}\".format(data['s'][i]) if i % 8 == 0 else '' for i in range(0,len(data))]\n",
    "\n",
    "x_vals_lane_1 = [data['dx'][i] * lane_width * 0.5 + data['x'][i] for i in range(0, len(data))]\n",
    "x_vals_lane_2 = [data['dx'][i] * lane_width * 1.5 + data['x'][i] for i in range(0, len(data))]\n",
    "x_vals_lane_3 = [data['dx'][i] * lane_width * 2.5 + data['x'][i] for i in range(0, len(data))]\n",
    "\n",
    "y_vals_lane_1 = [data['dy'][i] * lane_width * 0.5 + data['y'][i] for i in range(0, len(data))]\n",
    "y_vals_lane_2 = [data['dy'][i] * lane_width * 1.5 + data['y'][i] for i in range(0, len(data))]\n",
    "y_vals_lane_3 = [data['dy'][i] * lane_width * 2.5 + data['y'][i] for i in range(0, len(data))]\n",
    "\n",
    "plt.figure(figsize=(20,20))\n",
    "plt.xlabel('x', fontsize=32)\n",
    "plt.ylabel('y', fontsize=32)\n",
    "plt.plot(data['x'], data['y'])\n",
    "plt.scatter(data['x'], data['y'])\n",
    "for i in range(0, len(data)):\n",
    "    plt.annotate(s_vals[i], (data['x'][i], data['y'][i]), color='red', fontsize=10)\n",
    "    \n",
    "plt.plot(x_vals_lane_1, y_vals_lane_1)\n",
    "plt.plot(x_vals_lane_2, y_vals_lane_2)\n",
    "plt.plot(x_vals_lane_3, y_vals_lane_3)\n",
    "plt.xlim((1000, 1500))\n",
    "plt.ylim((1000, 1250))\n",
    "plt.show()"
   ]
  }
 ],
 "metadata": {
  "kernelspec": {
   "display_name": "Python 3",
   "language": "python",
   "name": "python3"
  },
  "language_info": {
   "codemirror_mode": {
    "name": "ipython",
    "version": 3
   },
   "file_extension": ".py",
   "mimetype": "text/x-python",
   "name": "python",
   "nbconvert_exporter": "python",
   "pygments_lexer": "ipython3",
   "version": "3.5.2"
  },
  "widgets": {
   "state": {},
   "version": "1.1.2"
  }
 },
 "nbformat": 4,
 "nbformat_minor": 2
}
